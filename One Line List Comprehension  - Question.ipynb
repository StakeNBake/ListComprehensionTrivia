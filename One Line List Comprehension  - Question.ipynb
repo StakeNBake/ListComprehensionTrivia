{
 "cells": [
  {
   "cell_type": "markdown",
   "id": "73cfee16",
   "metadata": {},
   "source": [
    "## Problem\n",
    "We are creating a database for a real estate company on GIS house information and property values over the years. On the GIS websites property information is recorded with the house number followed by the street name and abbreviation (i.e. 37 Maple ST). Two columns need to be create from the house address that show the house number and the house street name. This will be used in a front end web application which will run SQL queries based on those 2 columns.\n",
    "\n",
    "The problem is that when string slicing off the numbers, some of the data points contained symbols followed by more numbers. This is due to multi families or condos. (i.e. 37 + 39 Maple ST)\n",
    "\n",
    "Ultimately, we want a column named \"House_Number\" that contains the first number of the address (i.e. 37 for 37 Maple ST) and a column named \"House_Street\" that only contains street names (i.e. Maple ST)\n",
    "\n",
    "- Note: \n",
    " - The final script can to add the data can be achieve in 3 lines of code using string comprehension \n",
    " - Some streets incorporate a number into this \"name\" so .replace(num) functions will not work. (i.e. 37 RT 63)\n",
    " - Data needs to be recorded into a dictionary so that it can be reentered into the original dataframe at the correct spot\n"
   ]
  },
  {
   "cell_type": "markdown",
   "id": "4992b64f",
   "metadata": {},
   "source": [
    "## Initial Dataframe"
   ]
  },
  {
   "cell_type": "code",
   "execution_count": null,
   "id": "a08c0bdf",
   "metadata": {},
   "outputs": [],
   "source": [
    "# libraries\n",
    "import pandas as pd\n",
    "import random\n",
    "# street data\n",
    "Location_Data = ['78 & 78A MAIN ST', '14 & 16 UPPERMOUNTAIN RD', '1763 + 1765 RT 7 N', '5 + 7 POINT OF PLEASANT RD', '11 + 13 RT 63', '65 + 67 SAND RD', '17 + 19 MINER ST',\n",
    " '29 + 29A DUBLIN RD','31 + 31B DUBLIN RD','33 + 33C DUBLIN RD', '10 AMY RD', '86 ARNOTT DR', '43 ASPEN HILL DR', '127 BARNES RD', '3 BATTLE HILL RD', '7 BUBBLE HILL RD', '83 BELDEN ST',\n",
    " '96 BREWSTER RD','11 MINER ST', '43 CAPITAL MOUNTAIN RD', '27 CHAPS RD', '34 COBBLE RD', '84 DEER RD', '3 DUBLIN RD', '13 FACCHIN ST', '76 JOHNSON RD',\n",
    " '43 KELLOGG RD', '86 .3 LIVE ROCK STATION', '32 LOWER BARRACK RD', '74 MAIN ST', '12 + 14 MINER ST', '87 & 12 MAGIC MOUNTAIN RD', '7 PAGE RD', '1 POINT OF PLEASANT RD',\n",
    " '83 PROSPECT ST', '12 & 14 RAILROAD ST', '12 RIVER RD', '32 RT 126', '32 RT 63', '645 RT 7 N', '12 RT 7 S', '53 SAND RD', '6 SIX ROD RD', '73 STEEP RD', '12 STEIN LN',\n",
    " '98 & 98A UPPERMOUNTAIN RD','72 UPPERMOUNTAIN RD', '18 WHIPPUM RD', '90 WESTFIELD TURNPIKE RD', '76 WATER ST','26 RAILROAD ST','32 MAGIC MOUNTAIN RD','102 LIVE ROCK STATION']\n",
    "# subsequent data\n",
    "Placeholder_Data = [\"Data ----- >>>>>>\"]*len(Location_Data)\n",
    "# create dataframe\n",
    "random.shuffle(Location_Data) # randomize\n",
    "dataframe_main = pd.DataFrame(data = {\"Location\": [(i + \", TOWNSVILLE, ZA\") for i in Location_Data] , \"Other_Data\":Placeholder_Data})\n",
    "print(\"Below is the initial dataframe:\")\n",
    "dataframe_main"
   ]
  },
  {
   "cell_type": "markdown",
   "id": "a24a2e1d",
   "metadata": {},
   "source": [
    "## Workspace"
   ]
  },
  {
   "cell_type": "code",
   "execution_count": null,
   "id": "67a43f23",
   "metadata": {},
   "outputs": [],
   "source": [
    "# copy of initial dataframe\n",
    "df_oneliner = dataframe_main.copy()\n",
    "# below is the fixed variable of the symbols we want to discard from entrees \n",
    "SPECIAL_CHARACTERS = \"\"\"!@#$%^&*()-+?_=,<>./\"\"\"\n",
    "\n",
    "###################### Work Space   ###################### 3 lines to achieve goal\n",
    "\n",
    "\n",
    "\n",
    "###################### Work Space   ######################\n",
    "\n",
    "df_oneliner"
   ]
  },
  {
   "cell_type": "markdown",
   "id": "e3ec637f",
   "metadata": {},
   "source": [
    "### I welcome feedback and would love to know if anyone has a quicker and simpler means of achieving this outcome "
   ]
  }
 ],
 "metadata": {
  "kernelspec": {
   "display_name": "Python 3 (ipykernel)",
   "language": "python",
   "name": "python3"
  },
  "language_info": {
   "codemirror_mode": {
    "name": "ipython",
    "version": 3
   },
   "file_extension": ".py",
   "mimetype": "text/x-python",
   "name": "python",
   "nbconvert_exporter": "python",
   "pygments_lexer": "ipython3",
   "version": "3.10.7"
  }
 },
 "nbformat": 4,
 "nbformat_minor": 5
}
